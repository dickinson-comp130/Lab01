{
 "cells": [
  {
   "cell_type": "markdown",
   "metadata": {
    "deletable": false,
    "editable": false,
    "run_control": {
     "frozen": true
    }
   },
   "source": [
    "# Lab 01 - Course Tools and Practices  \n",
    "**COMP130 - Introduction to Computing**  \n",
    "**Dickinson College**  "
   ]
  },
  {
   "cell_type": "markdown",
   "metadata": {
    "deletable": false,
    "editable": false,
    "run_control": {
     "frozen": true
    }
   },
   "source": [
    "### Introduction\n",
    "\n",
    "This lab will introduce you to some of the tools and practices that we will be using throughout this course.  In particular, this lab focuses on:\n",
    "\n",
    "- The use of *Jupyter Notebooks.*\n",
    "- The practice of *Pair Programming*.\n",
    "- Basic Python language expressions and statements.\n",
    "\n",
    "### Jupyter Notebooks\n",
    "\n",
    "You are currently reading a Jupyter Notebook.  A Juypter Notebook is a document, rendered in a web browser, that allows you to enter text and program statements.  As we will see later in this lab one of the special features of Jupyter Notebooks is that they allow you to run your program statements and see the results directly in the notebook. These features make Jupyter Notebooks an ideal tool for the labs, in-class activities and homework exercises in this course.\n",
    "\n",
    "But, before we get to all of that, this section will introduce you to the basics of how to use a Jupyter Notebook.\n",
    "\n",
    "The labs, activities and homework assignments for this course will contain textual information (like what you are reading now) and will also have questions labeled with boldface (e.g. __Q1:__ below).  Following each question will be a cell (or cells) in which you are to provide the answer to the question. \n",
    "\n",
    "Each answer field will be setup by the instructor to accept your answer either:\n",
    "- as text using a special language called *Markdown* to help with formatting, or\n",
    "- as *Python statements* that can be executed by the computer."
   ]
  },
  {
   "cell_type": "markdown",
   "metadata": {
    "deletable": false,
    "editable": false,
    "run_control": {
     "frozen": true
    }
   },
   "source": [
    "__Q1:__ Markdown cells will look like what is shown just below this question. Double click on the text \"Type Markdown and LaTeX: $𝛼^2$\" to open the cell.  Then enter your name and your partner's name separated by a comma.  Notice that pressing *return* moves to a new line within the cell and does not close the cell. To close the cell click the \"Run\" button in the toolbar (or hold *control* and press *return*.)"
   ]
  },
  {
   "cell_type": "markdown",
   "metadata": {},
   "source": []
  },
  {
   "cell_type": "markdown",
   "metadata": {
    "deletable": false,
    "editable": false,
    "run_control": {
     "frozen": true
    }
   },
   "source": [
    "__Q2:__ What are two ways to close (or run) a cell in a Jupyter Notebook when you are finished editing it?"
   ]
  },
  {
   "cell_type": "markdown",
   "metadata": {},
   "source": []
  },
  {
   "cell_type": "markdown",
   "metadata": {
    "deletable": false,
    "editable": false,
    "run_control": {
     "frozen": true
    }
   },
   "source": [
    "You can also insert new cells into a Jupyter Notebook anywhere that you like.  You might want to use new cells to add notes for yourself or to experiment with Python statements that are not directly part of the answer to a question.  To insert a new cell into a notebook, select the cell above where you would like the new cell and click the __+__ icon in the toolbar at the top of the notebook tab.\n",
    "\n",
    "New cells are created as *Code* cells by default.  We'll get to those soon.  Cells in which you want to enter text should be *Markdown* cells.  There is a dropdown menu in the toolbar that allows you to set the content type for a cell. "
   ]
  },
  {
   "cell_type": "markdown",
   "metadata": {
    "deletable": false,
    "editable": false,
    "run_control": {
     "frozen": true
    }
   },
   "source": [
    "__Q3:__ Insert a cell after this one, set its content type to *Markdown* and in it explain how you add a new cell to a Jupyter notebook."
   ]
  },
  {
   "cell_type": "markdown",
   "metadata": {
    "deletable": false,
    "editable": false,
    "run_control": {
     "frozen": true
    }
   },
   "source": [
    "__Q4:__ The *Scissors* icon in the toolboar can be used to remove unwanted cells from a notebook. Remove the cell following this one from the notebook."
   ]
  },
  {
   "cell_type": "markdown",
   "metadata": {},
   "source": [
    "*Remove this cell.*"
   ]
  },
  {
   "cell_type": "markdown",
   "metadata": {
    "deletable": false,
    "editable": false,
    "run_control": {
     "frozen": true
    }
   },
   "source": [
    "As mentioned above, *Markdown* is a special languauge that can be used to add formatting to the contents of cells. This will allow you to do things like make text __boldface__ or *italic* or ~~strikethrough~~ or\n",
    "- as a bulleted\n",
    "- list of\n",
    "- items.\n",
    "\n",
    "Text in markdown is formatted by adding additional characters that specify how the text should appear.  For example, entering an asterisk character (\\*) before and another after some text will make it appear in *italic*.  So entering the following `*This will be italic*` into a markdown cell will cause the text to appear in italics when the cell is closed.\n",
    "\n",
    "On the course homepage there is a link to a *Markdown Cheatsheet* that shows you how to use markdown to style your text. Use that cheatsheet to answer the following questions."
   ]
  },
  {
   "cell_type": "markdown",
   "metadata": {
    "deletable": false,
    "editable": false,
    "run_control": {
     "frozen": true
    }
   },
   "source": [
    "__Q5__ Write a sentence in the following cell that includes emphasized text using some __boldface__, some *italic* and some ~~strikethrough~~."
   ]
  },
  {
   "cell_type": "markdown",
   "metadata": {},
   "source": []
  },
  {
   "cell_type": "markdown",
   "metadata": {
    "deletable": false,
    "editable": false,
    "run_control": {
     "frozen": true
    }
   },
   "source": [
    "__Q6:__ Create a bulleted list of foods that you enjoy in the cell below."
   ]
  },
  {
   "cell_type": "markdown",
   "metadata": {},
   "source": []
  },
  {
   "cell_type": "markdown",
   "metadata": {
    "deletable": false,
    "editable": false,
    "run_control": {
     "frozen": true
    }
   },
   "source": [
    "As you make changes to your notebook (editing cells, adding cells, deleting cells) you will want to be sure to save your changes frequently.  You can save the notebook by:\n",
    "- clicking the *small disk* icon in the toolbar, \n",
    "- choosing \"Save Notebook\" from the \"File\" menu, or \n",
    "- by using the *save keyboard shortcut* for your computer."
   ]
  },
  {
   "cell_type": "markdown",
   "metadata": {
    "deletable": false,
    "editable": false,
    "run_control": {
     "frozen": true
    }
   },
   "source": [
    "It is possible to add images to your Jupyter Notebooks as well.  This will be handy when it is easiest to draw a figure or a diagram by hand.  In those cases you can take a picture of the figure or diagram with your phone, e-mail it to yourself and then add it to your notebook.  To do so, copy the e-mail attachment to the folder containing the Jupyter Notebook file (e.g. Lab01-master) in the case of this lab.  Then use the markdown commands for inserting an image.  For example, if the name of your image was *MyPicture.jpeg* then you would use the markdown: `![Text description of MyPicture](MyPicture.jpeg)`"
   ]
  },
  {
   "cell_type": "markdown",
   "metadata": {
    "deletable": false,
    "editable": false,
    "run_control": {
     "frozen": true
    }
   },
   "source": [
    "__Q7:__ Take a picture with your phone, e-mail it to yourself, copy the file into the lab folder and use markdown to display it in the cell below."
   ]
  },
  {
   "cell_type": "markdown",
   "metadata": {},
   "source": []
  },
  {
   "cell_type": "markdown",
   "metadata": {
    "deletable": false,
    "editable": false,
    "run_control": {
     "frozen": true
    }
   },
   "source": [
    "That's enough basic markdown for now.  You get the idea... and you know where to find the cheatsheet when you need to learn how to do something different."
   ]
  },
  {
   "cell_type": "markdown",
   "metadata": {
    "deletable": false,
    "editable": false,
    "run_control": {
     "frozen": true
    }
   },
   "source": [
    "### Pair Programming"
   ]
  },
  {
   "cell_type": "markdown",
   "metadata": {
    "deletable": false,
    "editable": false,
    "run_control": {
     "frozen": true
    }
   },
   "source": [
    "In preparation for this lab you watched a video that introduced you to the idea of pair programming.  We will be using pair programming for the labs in this course.  Answer the following questions about pair programming based."
   ]
  },
  {
   "cell_type": "markdown",
   "metadata": {
    "deletable": false,
    "editable": false,
    "run_control": {
     "frozen": true
    }
   },
   "source": [
    "__Q8:__ What are the two roles in pair programming?  Format your answer as a bulleted list with the name of each role in boldface followed by a short description of the main responsibilities of the person in that role."
   ]
  },
  {
   "cell_type": "markdown",
   "metadata": {},
   "source": []
  },
  {
   "cell_type": "markdown",
   "metadata": {
    "deletable": false,
    "editable": false,
    "run_control": {
     "frozen": true
    }
   },
   "source": [
    "__Q9:__ In the cell below give a bulleted list of several things that you *should do* while pair programming."
   ]
  },
  {
   "cell_type": "markdown",
   "metadata": {},
   "source": []
  },
  {
   "cell_type": "markdown",
   "metadata": {
    "deletable": false,
    "editable": false,
    "run_control": {
     "frozen": true
    }
   },
   "source": [
    "__Q10:__ In the cell below give a bulleted list of several things that you *should not do* while pair programming."
   ]
  },
  {
   "cell_type": "markdown",
   "metadata": {},
   "source": []
  },
  {
   "cell_type": "markdown",
   "metadata": {
    "deletable": false,
    "editable": false,
    "run_control": {
     "frozen": true
    }
   },
   "source": [
    "__Q11:__ In the cell below describe a benefit that you anticipate from working in pairs on the labs."
   ]
  },
  {
   "cell_type": "markdown",
   "metadata": {},
   "source": []
  },
  {
   "cell_type": "markdown",
   "metadata": {
    "deletable": false,
    "editable": false,
    "run_control": {
     "frozen": true
    }
   },
   "source": [
    "__Q12:__ In the cell below use a bulleted list to give a few challenges you anticipate from working in pairs in the labs. For each one, give a strategy that you can use to address the challenge."
   ]
  },
  {
   "cell_type": "markdown",
   "metadata": {},
   "source": []
  },
  {
   "cell_type": "markdown",
   "metadata": {
    "deletable": false,
    "editable": false,
    "run_control": {
     "frozen": true
    }
   },
   "source": [
    "__Q13:__ In the cell below briefly discuss why it is important to switch roles while pair programming in the classroom.  "
   ]
  },
  {
   "cell_type": "markdown",
   "metadata": {},
   "source": []
  },
  {
   "cell_type": "markdown",
   "metadata": {
    "deletable": false,
    "editable": false,
    "run_control": {
     "frozen": true
    }
   },
   "source": [
    "### Python Code Cells in a Notebook"
   ]
  },
  {
   "cell_type": "markdown",
   "metadata": {
    "deletable": false,
    "editable": false,
    "run_control": {
     "frozen": true
    }
   },
   "source": [
    "__Q14:__ How does the textbook define a *Python interpreter*?"
   ]
  },
  {
   "cell_type": "markdown",
   "metadata": {},
   "source": []
  },
  {
   "cell_type": "markdown",
   "metadata": {
    "deletable": false,
    "editable": false,
    "run_control": {
     "frozen": true
    }
   },
   "source": [
    "There are many different Python interpreters and many ways to interact with them.  Section 1.2 in the text introduces one way. In this course, we will primarily interact with a Python interpreter though *code* cells in Jupyter Notebooks. We have seen that *Markdown* cells in a notebook will interpret some characters as formatting instructions when the cell is run. Code cells allow us to enter Python program statements which the Jupyter Notebook will then execute using a Python interpreter and then display the results for us."
   ]
  },
  {
   "cell_type": "markdown",
   "metadata": {
    "deletable": false,
    "editable": false,
    "run_control": {
     "frozen": true
    }
   },
   "source": [
    "__Q15:__ The cell below is a *code* cell.  Enter the the Python expression `1+1` into that cell and run it. "
   ]
  },
  {
   "cell_type": "code",
   "execution_count": null,
   "metadata": {},
   "outputs": [],
   "source": []
  },
  {
   "cell_type": "markdown",
   "metadata": {
    "deletable": false,
    "editable": false,
    "run_control": {
     "frozen": true
    }
   },
   "source": [
    "__Q16:__ What happens when you run Python statements in a code cell?"
   ]
  },
  {
   "cell_type": "markdown",
   "metadata": {},
   "source": []
  },
  {
   "cell_type": "markdown",
   "metadata": {
    "deletable": false,
    "editable": false,
    "run_control": {
     "frozen": true
    }
   },
   "source": [
    "__Q17:__ How can you tell a code cell from a markdown cell just by looking at it?"
   ]
  },
  {
   "cell_type": "markdown",
   "metadata": {},
   "source": []
  },
  {
   "cell_type": "markdown",
   "metadata": {
    "deletable": false,
    "editable": false,
    "run_control": {
     "frozen": true
    }
   },
   "source": [
    "__Q18:__ Run the cell in __Q15__ several more times.  What does the number in the brackets to the left of the cell seem to indicate?"
   ]
  },
  {
   "cell_type": "markdown",
   "metadata": {},
   "source": []
  },
  {
   "cell_type": "markdown",
   "metadata": {
    "deletable": false,
    "editable": false,
    "run_control": {
     "frozen": true
    }
   },
   "source": [
    "### Printing and Experimenting"
   ]
  },
  {
   "cell_type": "markdown",
   "metadata": {
    "deletable": false,
    "editable": false,
    "run_control": {
     "frozen": true
    }
   },
   "source": [
    "__Q19:__ In the code cell below use a Python `print` statement to display one of your favorite movie quotes when the cell is run."
   ]
  },
  {
   "cell_type": "code",
   "execution_count": null,
   "metadata": {},
   "outputs": [],
   "source": []
  },
  {
   "cell_type": "markdown",
   "metadata": {
    "deletable": false,
    "editable": false,
    "run_control": {
     "frozen": true
    }
   },
   "source": [
    "__Q20:__ Do you notice anything different between the way that the *result of evaluating an expression* is displayed and the way that the *result of executing a print statement* is displayed by the Notebook?"
   ]
  },
  {
   "cell_type": "markdown",
   "metadata": {},
   "source": []
  },
  {
   "cell_type": "markdown",
   "metadata": {
    "deletable": false,
    "editable": false,
    "run_control": {
     "frozen": true
    }
   },
   "source": [
    "One nice thing about using Jupyter Notebooks is that you can add in new cells anywhere to experiment with program statements.  For example, given the `print` statement above, it would be reasonable to ask yourselves things like what happens if we print `1+1`, if we make a typo omitting a quote or a parenthesis or write `prinnt` by mistake, or if we put more than one `print` statement in a cell?  \n",
    "\n",
    "Below are some questions that you can answer via experimentation in new cells.  For each question, add one or more new code cells and write some statements that will help you answer the question.  Leave your new code cells in place and write your answer in the markdown cell provided."
   ]
  },
  {
   "cell_type": "markdown",
   "metadata": {
    "deletable": false,
    "editable": false,
    "run_control": {
     "frozen": true
    }
   },
   "source": [
    "__Q22:__ What output is generated when you print `1+1` without quotes? With quotes?"
   ]
  },
  {
   "cell_type": "markdown",
   "metadata": {},
   "source": []
  },
  {
   "cell_type": "markdown",
   "metadata": {
    "deletable": false,
    "editable": false,
    "run_control": {
     "frozen": true
    }
   },
   "source": [
    "__Q23:__ What happens when a `print` statement contains a typo? Are all typo's the same?"
   ]
  },
  {
   "cell_type": "markdown",
   "metadata": {},
   "source": []
  },
  {
   "cell_type": "markdown",
   "metadata": {
    "deletable": false,
    "editable": false,
    "run_control": {
     "frozen": true
    }
   },
   "source": [
    "__Q24:__ Is it possible to print more than one line of text from a cell? How?"
   ]
  },
  {
   "cell_type": "markdown",
   "metadata": {},
   "source": []
  },
  {
   "cell_type": "markdown",
   "metadata": {
    "deletable": false,
    "editable": false,
    "run_control": {
     "frozen": true
    }
   },
   "source": [
    "__Q25:__ How can you use negative numbers in expressions?"
   ]
  },
  {
   "cell_type": "markdown",
   "metadata": {},
   "source": []
  },
  {
   "cell_type": "markdown",
   "metadata": {
    "deletable": false,
    "editable": false,
    "run_control": {
     "frozen": true
    }
   },
   "source": [
    "You may have noticed earlier that we use special formatting to indicate markdown statements in the text.  We uses the same formatting for Python language statements in the above questions.  In general we will use this special formatting to offset any text that will be part of an interpreted statement from the surrounding text."
   ]
  },
  {
   "cell_type": "markdown",
   "metadata": {
    "deletable": false,
    "editable": false,
    "run_control": {
     "frozen": true
    }
   },
   "source": [
    "__Q26:__ What special formatting is used to indicate text that is part of an interpreted statement?"
   ]
  },
  {
   "cell_type": "markdown",
   "metadata": {},
   "source": []
  },
  {
   "cell_type": "markdown",
   "metadata": {},
   "source": [
    "Sometimes we will need to display a sequence of Python language statements.  When this happens they will be formatted as shown here:\n",
    "\n",
    "```\n",
    "print(\"This is a Python print statement\")\n",
    "print(\"I am too!\")\n",
    "print(\"Me three.\")\n",
    "```\n"
   ]
  },
  {
   "cell_type": "markdown",
   "metadata": {
    "deletable": false,
    "editable": false,
    "run_control": {
     "frozen": true
    }
   },
   "source": [
    "### Arithmetic Operators"
   ]
  },
  {
   "cell_type": "markdown",
   "metadata": {
    "deletable": false,
    "editable": false,
    "run_control": {
     "frozen": true
    }
   },
   "source": [
    "__Q27:__ What are the seven arithmetic operators in Python (5 in section 1.4 and 2 in 5.1) and what operation does each perform?"
   ]
  },
  {
   "cell_type": "markdown",
   "metadata": {},
   "source": []
  },
  {
   "cell_type": "markdown",
   "metadata": {
    "deletable": false,
    "editable": false,
    "run_control": {
     "frozen": true
    }
   },
   "source": [
    "__Q28:__ Write *an expression that gives a result* that is the total cost of 3 items that each cost \\\\$2.57 and 2 items that each cost \\\\$1.98.  \n",
    "\n",
    "Note: The point here is to practice with Python's arithmetic operators. So __all computation__ must appear in the expression. For example if the question had asked \"How many pennies are in 2 quarters, 3 dimes and a nickel\" simply writing `85` or even `50 + 30 + 5` is not an acceptable answer.  The best answer would be `2*25 + 3*10 + 5`.  This same caveat applies to all of the following questions. "
   ]
  },
  {
   "cell_type": "code",
   "execution_count": null,
   "metadata": {},
   "outputs": [],
   "source": []
  },
  {
   "cell_type": "markdown",
   "metadata": {
    "deletable": false,
    "editable": false,
    "run_control": {
     "frozen": true
    }
   },
   "source": [
    "__Q29:__ Repeat __Q28__ if a 10\\% discount is applied to the lower priced item."
   ]
  },
  {
   "cell_type": "code",
   "execution_count": null,
   "metadata": {},
   "outputs": [],
   "source": []
  },
  {
   "cell_type": "markdown",
   "metadata": {
    "deletable": false,
    "editable": false,
    "run_control": {
     "frozen": true
    }
   },
   "source": [
    "__Q30:__ Consider a lunar day to be the period of time it takes the Earth's Moon to complete 1 rotation on its axis with respect to the Sun.\n",
    "\n",
    "Using the length of a lunar day in Earth days, hours and minutes, write a statement that computes and prints the number of seconds in a lunar day."
   ]
  },
  {
   "cell_type": "code",
   "execution_count": null,
   "metadata": {},
   "outputs": [],
   "source": []
  },
  {
   "cell_type": "markdown",
   "metadata": {},
   "source": [
    "__Q31:__ Write *an expression that gives a result* that is the number of whole meters (no portions left over) in 27 feet."
   ]
  },
  {
   "cell_type": "code",
   "execution_count": null,
   "metadata": {},
   "outputs": [],
   "source": []
  },
  {
   "cell_type": "markdown",
   "metadata": {
    "deletable": false,
    "editable": false,
    "run_control": {
     "frozen": true
    }
   },
   "source": [
    "__Q32:__ A relief agency had a supply of 2457 meals are to be distributed equally to 183 people. Write in a single cell *statements that print* the number of meals received by each person and the number of meals that are left over."
   ]
  },
  {
   "cell_type": "code",
   "execution_count": null,
   "metadata": {},
   "outputs": [],
   "source": []
  },
  {
   "cell_type": "markdown",
   "metadata": {
    "deletable": false,
    "editable": false,
    "run_control": {
     "frozen": true
    }
   },
   "source": [
    "### Order of Operations"
   ]
  },
  {
   "cell_type": "markdown",
   "metadata": {
    "deletable": false,
    "editable": false,
    "run_control": {
     "frozen": true
    }
   },
   "source": [
    "Python's arithmetic operators follow the same order of operations rules (i.e. have the same *order of precedence*) as you learned in your early mathematics courses.  Also, like in mathematics, parenthesis can be used in Python to dictate the order of operations and/or to clarify the meaning of an expression. The following questions are intended to give you additional practice writing Python expressions, thinking about the *human readability* of code and experimenting with Python code in a Jupyter Notebook. "
   ]
  },
  {
   "cell_type": "markdown",
   "metadata": {
    "deletable": false,
    "editable": false,
    "run_control": {
     "frozen": true
    }
   },
   "source": [
    "Consider the following expression that \"[Tried to Stump the Internet](https://www.nytimes.com/2019/08/02/science/math-equation-pedmas-bemdas-bedmas.html?smid=nytcore-ios-share)\":\n",
    "\n",
    "![8/2*(2+2)](https://pbs.twimg.com/media/EAmCTOJXsAYqL4r?format=jpg&name=thumb)\n",
    "\n",
    "__Q33:__ What value does Python compute for this expression? Based on that result, when evaluating operators with equal precedence (e.g. * and / or + and -) does Python evaluate them left to right? Or right to left?"
   ]
  },
  {
   "cell_type": "markdown",
   "metadata": {},
   "source": []
  },
  {
   "cell_type": "markdown",
   "metadata": {
    "deletable": false,
    "editable": false,
    "run_control": {
     "frozen": true
    }
   },
   "source": [
    "__Q34:__ Rewrite that expression so that the multiplication occurs before the division."
   ]
  },
  {
   "cell_type": "code",
   "execution_count": null,
   "metadata": {},
   "outputs": [],
   "source": []
  },
  {
   "cell_type": "markdown",
   "metadata": {
    "deletable": false,
    "editable": false,
    "run_control": {
     "frozen": true
    }
   },
   "source": [
    "In constructing a new weather app a software team is adding an option to allow temperatures to be displayed in Fahrenheit or Celsius. To do so they need expressions for converting from one to the other. With some research they find that a temperature in Fahrenheit is converted to Celsius by subtracting 32 and then dividing by 1.8."
   ]
  },
  {
   "cell_type": "markdown",
   "metadata": {
    "deletable": false,
    "editable": false,
    "run_control": {
     "frozen": true
    }
   },
   "source": [
    "__Q35:__ Write an expression that converts 84 degrees Fahrenheit to Celsius."
   ]
  },
  {
   "cell_type": "code",
   "execution_count": null,
   "metadata": {},
   "outputs": [],
   "source": []
  },
  {
   "cell_type": "markdown",
   "metadata": {
    "deletable": false,
    "editable": false,
    "run_control": {
     "frozen": true
    }
   },
   "source": [
    "__Q36:__ Write an expression that converts 28 degrees Celsius to Fahrenheit."
   ]
  },
  {
   "cell_type": "code",
   "execution_count": null,
   "metadata": {},
   "outputs": [],
   "source": []
  },
  {
   "cell_type": "markdown",
   "metadata": {
    "deletable": false,
    "editable": false,
    "run_control": {
     "frozen": true
    }
   },
   "source": [
    "Consider the following scenario. If you buy more than 10 items at \\\\$2.87 then a 10\\% discount is applied to half of the items and you can buy 10 more at a 50\\% discount.  A direct translation of this scenario for someone buying 15 items plus the additional 10 leads to the following messy expression.\n",
    "\n",
    "`15 * 2.87 - 15//2 * 2.87 * 0.1 + 10 * 2.87 * 0.5`"
   ]
  },
  {
   "cell_type": "code",
   "execution_count": null,
   "metadata": {},
   "outputs": [],
   "source": []
  },
  {
   "cell_type": "markdown",
   "metadata": {
    "deletable": false,
    "editable": false,
    "run_control": {
     "frozen": true
    }
   },
   "source": [
    "__Q37__ Rewrite this as an equivalent expression by factoring out the price of the item.  You can add a code cell to verify that the value of the expressions are the same."
   ]
  },
  {
   "cell_type": "code",
   "execution_count": null,
   "metadata": {},
   "outputs": [],
   "source": []
  },
  {
   "cell_type": "markdown",
   "metadata": {
    "deletable": false,
    "editable": false,
    "run_control": {
     "frozen": true
    }
   },
   "source": [
    "__Q38:__ Recall that the volume v of a right cylinder with a height h and radius r is:\n",
    "\n",
    "$v=h \\cdot \\pi \\cdot r^2$\n",
    "\n",
    "The SpaceX corporation is making plans to build a rocket with a radius of 3 meters and must be able to carry (i.e. have a volume of) 9000 $m^3$ of combined fuel and cargo and wants to know how tall the rocket will need to be.  A new programmer does some quick algebra to solve for the height:\n",
    "\n",
    "$h =\\frac{v}{2 \\cdot \\pi \\cdot r^2}$\n",
    "\n",
    "Thus the approximate height of the rocket is given by:\n",
    "\n",
    "$\\frac{9000}{2 \\cdot 3.14 \\cdot 3^2}$\n",
    "\n",
    "The new programmer's quick attempt to translate this to Python resulted in the following incorrect expression:\n",
    "\n",
    "`7 / 2*3.14*3**2`\n",
    "\n",
    "Rewrite this expression in two different ways that are correct."
   ]
  },
  {
   "cell_type": "code",
   "execution_count": null,
   "metadata": {},
   "outputs": [],
   "source": []
  },
  {
   "cell_type": "code",
   "execution_count": null,
   "metadata": {},
   "outputs": [],
   "source": []
  },
  {
   "cell_type": "markdown",
   "metadata": {
    "deletable": false,
    "editable": false,
    "run_control": {
     "frozen": true
    }
   },
   "source": [
    "__Q39:__ Think about the above expression and come up with at least two distinct reasons for why it is useful for programmers to use parenthesis in expressions."
   ]
  },
  {
   "cell_type": "markdown",
   "metadata": {},
   "source": []
  },
  {
   "cell_type": "markdown",
   "metadata": {
    "deletable": false,
    "editable": false,
    "run_control": {
     "frozen": true
    }
   },
   "source": [
    "In terms of writing expressions, the author of our text sets a good example when he says \"I don’t work very hard to remember the precedence of operators. If I can’t tell by looking at the expression, I use parentheses to make it obvious.\""
   ]
  }
 ],
 "metadata": {
  "kernelspec": {
   "display_name": "Python 3",
   "language": "python",
   "name": "python3"
  },
  "language_info": {
   "codemirror_mode": {
    "name": "ipython",
    "version": 3
   },
   "file_extension": ".py",
   "mimetype": "text/x-python",
   "name": "python",
   "nbconvert_exporter": "python",
   "pygments_lexer": "ipython3",
   "version": "3.7.3"
  }
 },
 "nbformat": 4,
 "nbformat_minor": 2
}
